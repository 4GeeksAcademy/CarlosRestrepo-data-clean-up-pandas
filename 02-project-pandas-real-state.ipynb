{
 "cells": [
  {
   "attachments": {},
   "cell_type": "markdown",
   "id": "innocent-university",
   "metadata": {},
   "source": [
    "# Limpieza del dataset de bienes raíces\n",
    "\n",
    "Este es un conjunto de datos (dataset) reales que fue descargado usando técnicas de web scraping. El archivo contiene registros de **Fotocasa**, el cual es uno de los sitios más populares de bienes raíces en España. Contiene miles de datos de casas reales publicadas en la web www.fotocasa.com.\n",
    "\n",
    "El dataset fue descargado hace algunos años y en ningún caso se obtuvo beneficio económico de ello.\n",
    "\n",
    "Tu objetivo es extraer tanta información como sea posible con el conocimiento que tienes hasta ahora de ciencia de datos.\n",
    "\n",
    "Agrega observaciones, conclusiones o notas acerca de los datos obtenidos en cada ejercicio."
   ]
  },
  {
   "cell_type": "code",
   "execution_count": 115,
   "id": "frank-heath",
   "metadata": {
    "ExecuteTime": {
     "end_time": "2025-09-23T22:18:44.079692Z",
     "start_time": "2025-09-23T22:18:43.699022Z"
    }
   },
   "outputs": [],
   "source": [
    "import pandas as pd"
   ]
  },
  {
   "cell_type": "markdown",
   "id": "5807eba1fce08a86",
   "metadata": {},
   "source": [
    "#### Ejercicio 00\n",
    "\n",
    "Lee el dataset data/real_estate.csv e intenta visualizar la tabla (★☆☆)"
   ]
  },
  {
   "cell_type": "code",
   "execution_count": 116,
   "id": "82e7dea53f252c1c",
   "metadata": {
    "ExecuteTime": {
     "end_time": "2025-09-23T22:18:48.046480Z",
     "start_time": "2025-09-23T22:18:47.647010Z"
    }
   },
   "outputs": [
    {
     "data": {
      "text/html": [
       "<div>\n",
       "<style scoped>\n",
       "    .dataframe tbody tr th:only-of-type {\n",
       "        vertical-align: middle;\n",
       "    }\n",
       "\n",
       "    .dataframe tbody tr th {\n",
       "        vertical-align: top;\n",
       "    }\n",
       "\n",
       "    .dataframe thead th {\n",
       "        text-align: right;\n",
       "    }\n",
       "</style>\n",
       "<table border=\"1\" class=\"dataframe\">\n",
       "  <thead>\n",
       "    <tr style=\"text-align: right;\">\n",
       "      <th></th>\n",
       "      <th>Unnamed: 0</th>\n",
       "      <th>id_realEstates</th>\n",
       "      <th>isNew</th>\n",
       "      <th>realEstate_name</th>\n",
       "      <th>phone_realEstate</th>\n",
       "      <th>url_inmueble</th>\n",
       "      <th>rooms</th>\n",
       "      <th>bathrooms</th>\n",
       "      <th>surface</th>\n",
       "      <th>price</th>\n",
       "      <th>...</th>\n",
       "      <th>level4Id</th>\n",
       "      <th>level5Id</th>\n",
       "      <th>level6Id</th>\n",
       "      <th>level7Id</th>\n",
       "      <th>level8Id</th>\n",
       "      <th>accuracy</th>\n",
       "      <th>latitude</th>\n",
       "      <th>longitude</th>\n",
       "      <th>zipCode</th>\n",
       "      <th>customZone</th>\n",
       "    </tr>\n",
       "  </thead>\n",
       "  <tbody>\n",
       "    <tr>\n",
       "      <th>0</th>\n",
       "      <td>1</td>\n",
       "      <td>153771986</td>\n",
       "      <td>False</td>\n",
       "      <td>ferrari 57 inmobiliaria</td>\n",
       "      <td>912177526.0</td>\n",
       "      <td>https://www.fotocasa.es/es/comprar/vivienda/ma...</td>\n",
       "      <td>3.0</td>\n",
       "      <td>2.0</td>\n",
       "      <td>103.0</td>\n",
       "      <td>195000</td>\n",
       "      <td>...</td>\n",
       "      <td>0</td>\n",
       "      <td>0</td>\n",
       "      <td>0</td>\n",
       "      <td>0</td>\n",
       "      <td>0</td>\n",
       "      <td>0</td>\n",
       "      <td>40,2948276786438</td>\n",
       "      <td>-3,44402412135624</td>\n",
       "      <td>NaN</td>\n",
       "      <td>NaN</td>\n",
       "    </tr>\n",
       "    <tr>\n",
       "      <th>1</th>\n",
       "      <td>2</td>\n",
       "      <td>153867863</td>\n",
       "      <td>False</td>\n",
       "      <td>tecnocasa fuenlabrada ferrocarril</td>\n",
       "      <td>916358736.0</td>\n",
       "      <td>https://www.fotocasa.es/es/comprar/vivienda/ma...</td>\n",
       "      <td>3.0</td>\n",
       "      <td>1.0</td>\n",
       "      <td>NaN</td>\n",
       "      <td>89000</td>\n",
       "      <td>...</td>\n",
       "      <td>0</td>\n",
       "      <td>0</td>\n",
       "      <td>0</td>\n",
       "      <td>0</td>\n",
       "      <td>0</td>\n",
       "      <td>1</td>\n",
       "      <td>40,28674</td>\n",
       "      <td>-3,79351</td>\n",
       "      <td>NaN</td>\n",
       "      <td>NaN</td>\n",
       "    </tr>\n",
       "    <tr>\n",
       "      <th>2</th>\n",
       "      <td>3</td>\n",
       "      <td>153430440</td>\n",
       "      <td>False</td>\n",
       "      <td>look find boadilla</td>\n",
       "      <td>916350408.0</td>\n",
       "      <td>https://www.fotocasa.es/es/comprar/vivienda/ma...</td>\n",
       "      <td>2.0</td>\n",
       "      <td>2.0</td>\n",
       "      <td>99.0</td>\n",
       "      <td>390000</td>\n",
       "      <td>...</td>\n",
       "      <td>0</td>\n",
       "      <td>0</td>\n",
       "      <td>0</td>\n",
       "      <td>0</td>\n",
       "      <td>0</td>\n",
       "      <td>0</td>\n",
       "      <td>40,4115646786438</td>\n",
       "      <td>-3,90662252135624</td>\n",
       "      <td>NaN</td>\n",
       "      <td>NaN</td>\n",
       "    </tr>\n",
       "    <tr>\n",
       "      <th>3</th>\n",
       "      <td>4</td>\n",
       "      <td>152776331</td>\n",
       "      <td>False</td>\n",
       "      <td>tecnocasa fuenlabrada ferrocarril</td>\n",
       "      <td>916358736.0</td>\n",
       "      <td>https://www.fotocasa.es/es/comprar/vivienda/ma...</td>\n",
       "      <td>3.0</td>\n",
       "      <td>1.0</td>\n",
       "      <td>86.0</td>\n",
       "      <td>89000</td>\n",
       "      <td>...</td>\n",
       "      <td>0</td>\n",
       "      <td>0</td>\n",
       "      <td>0</td>\n",
       "      <td>0</td>\n",
       "      <td>0</td>\n",
       "      <td>0</td>\n",
       "      <td>40,2853785786438</td>\n",
       "      <td>-3,79508142135624</td>\n",
       "      <td>NaN</td>\n",
       "      <td>NaN</td>\n",
       "    </tr>\n",
       "    <tr>\n",
       "      <th>4</th>\n",
       "      <td>5</td>\n",
       "      <td>153180188</td>\n",
       "      <td>False</td>\n",
       "      <td>ferrari 57 inmobiliaria</td>\n",
       "      <td>912177526.0</td>\n",
       "      <td>https://www.fotocasa.es/es/comprar/vivienda/ma...</td>\n",
       "      <td>2.0</td>\n",
       "      <td>2.0</td>\n",
       "      <td>106.0</td>\n",
       "      <td>172000</td>\n",
       "      <td>...</td>\n",
       "      <td>0</td>\n",
       "      <td>0</td>\n",
       "      <td>0</td>\n",
       "      <td>0</td>\n",
       "      <td>0</td>\n",
       "      <td>0</td>\n",
       "      <td>40,2998774864376</td>\n",
       "      <td>-3,45226301356237</td>\n",
       "      <td>NaN</td>\n",
       "      <td>NaN</td>\n",
       "    </tr>\n",
       "    <tr>\n",
       "      <th>...</th>\n",
       "      <td>...</td>\n",
       "      <td>...</td>\n",
       "      <td>...</td>\n",
       "      <td>...</td>\n",
       "      <td>...</td>\n",
       "      <td>...</td>\n",
       "      <td>...</td>\n",
       "      <td>...</td>\n",
       "      <td>...</td>\n",
       "      <td>...</td>\n",
       "      <td>...</td>\n",
       "      <td>...</td>\n",
       "      <td>...</td>\n",
       "      <td>...</td>\n",
       "      <td>...</td>\n",
       "      <td>...</td>\n",
       "      <td>...</td>\n",
       "      <td>...</td>\n",
       "      <td>...</td>\n",
       "      <td>...</td>\n",
       "      <td>...</td>\n",
       "    </tr>\n",
       "    <tr>\n",
       "      <th>15330</th>\n",
       "      <td>15331</td>\n",
       "      <td>153901377</td>\n",
       "      <td>False</td>\n",
       "      <td>infocasa consulting</td>\n",
       "      <td>911360461.0</td>\n",
       "      <td>https://www.fotocasa.es/es/comprar/vivienda/ma...</td>\n",
       "      <td>2.0</td>\n",
       "      <td>1.0</td>\n",
       "      <td>96.0</td>\n",
       "      <td>259470</td>\n",
       "      <td>...</td>\n",
       "      <td>0</td>\n",
       "      <td>0</td>\n",
       "      <td>0</td>\n",
       "      <td>0</td>\n",
       "      <td>0</td>\n",
       "      <td>0</td>\n",
       "      <td>40,45416</td>\n",
       "      <td>-3,70286</td>\n",
       "      <td>NaN</td>\n",
       "      <td>NaN</td>\n",
       "    </tr>\n",
       "    <tr>\n",
       "      <th>15331</th>\n",
       "      <td>15332</td>\n",
       "      <td>150394373</td>\n",
       "      <td>False</td>\n",
       "      <td>inmobiliaria pulpon</td>\n",
       "      <td>912788039.0</td>\n",
       "      <td>https://www.fotocasa.es/es/comprar/vivienda/ma...</td>\n",
       "      <td>3.0</td>\n",
       "      <td>1.0</td>\n",
       "      <td>150.0</td>\n",
       "      <td>165000</td>\n",
       "      <td>...</td>\n",
       "      <td>0</td>\n",
       "      <td>0</td>\n",
       "      <td>0</td>\n",
       "      <td>0</td>\n",
       "      <td>0</td>\n",
       "      <td>0</td>\n",
       "      <td>40,36652</td>\n",
       "      <td>-3,48951</td>\n",
       "      <td>NaN</td>\n",
       "      <td>NaN</td>\n",
       "    </tr>\n",
       "    <tr>\n",
       "      <th>15332</th>\n",
       "      <td>15333</td>\n",
       "      <td>153901397</td>\n",
       "      <td>False</td>\n",
       "      <td>tecnocasa torrelodones</td>\n",
       "      <td>912780348.0</td>\n",
       "      <td>https://www.fotocasa.es/es/comprar/vivienda/ma...</td>\n",
       "      <td>4.0</td>\n",
       "      <td>2.0</td>\n",
       "      <td>175.0</td>\n",
       "      <td>495000</td>\n",
       "      <td>...</td>\n",
       "      <td>0</td>\n",
       "      <td>0</td>\n",
       "      <td>0</td>\n",
       "      <td>0</td>\n",
       "      <td>0</td>\n",
       "      <td>0</td>\n",
       "      <td>40,57444</td>\n",
       "      <td>-3,92124</td>\n",
       "      <td>NaN</td>\n",
       "      <td>NaN</td>\n",
       "    </tr>\n",
       "    <tr>\n",
       "      <th>15333</th>\n",
       "      <td>15334</td>\n",
       "      <td>152607440</td>\n",
       "      <td>False</td>\n",
       "      <td>inmobiliaria pulpon</td>\n",
       "      <td>912788039.0</td>\n",
       "      <td>https://www.fotocasa.es/es/comprar/vivienda/ma...</td>\n",
       "      <td>3.0</td>\n",
       "      <td>2.0</td>\n",
       "      <td>101.0</td>\n",
       "      <td>195000</td>\n",
       "      <td>...</td>\n",
       "      <td>0</td>\n",
       "      <td>0</td>\n",
       "      <td>0</td>\n",
       "      <td>0</td>\n",
       "      <td>0</td>\n",
       "      <td>0</td>\n",
       "      <td>40,36967</td>\n",
       "      <td>-3,48105</td>\n",
       "      <td>NaN</td>\n",
       "      <td>NaN</td>\n",
       "    </tr>\n",
       "    <tr>\n",
       "      <th>15334</th>\n",
       "      <td>15335</td>\n",
       "      <td>153901356</td>\n",
       "      <td>False</td>\n",
       "      <td>infocasa consulting</td>\n",
       "      <td>911360461.0</td>\n",
       "      <td>https://www.fotocasa.es/es/comprar/vivienda/ma...</td>\n",
       "      <td>3.0</td>\n",
       "      <td>2.0</td>\n",
       "      <td>152.0</td>\n",
       "      <td>765000</td>\n",
       "      <td>...</td>\n",
       "      <td>0</td>\n",
       "      <td>0</td>\n",
       "      <td>0</td>\n",
       "      <td>0</td>\n",
       "      <td>0</td>\n",
       "      <td>0</td>\n",
       "      <td>40,45773</td>\n",
       "      <td>-3,69068</td>\n",
       "      <td>NaN</td>\n",
       "      <td>NaN</td>\n",
       "    </tr>\n",
       "  </tbody>\n",
       "</table>\n",
       "<p>15335 rows × 37 columns</p>\n",
       "</div>"
      ],
      "text/plain": [
       "       Unnamed: 0  id_realEstates  isNew                    realEstate_name  \\\n",
       "0               1       153771986  False            ferrari 57 inmobiliaria   \n",
       "1               2       153867863  False  tecnocasa fuenlabrada ferrocarril   \n",
       "2               3       153430440  False                 look find boadilla   \n",
       "3               4       152776331  False  tecnocasa fuenlabrada ferrocarril   \n",
       "4               5       153180188  False            ferrari 57 inmobiliaria   \n",
       "...           ...             ...    ...                                ...   \n",
       "15330       15331       153901377  False                infocasa consulting   \n",
       "15331       15332       150394373  False                inmobiliaria pulpon   \n",
       "15332       15333       153901397  False             tecnocasa torrelodones   \n",
       "15333       15334       152607440  False                inmobiliaria pulpon   \n",
       "15334       15335       153901356  False                infocasa consulting   \n",
       "\n",
       "       phone_realEstate                                       url_inmueble  \\\n",
       "0           912177526.0  https://www.fotocasa.es/es/comprar/vivienda/ma...   \n",
       "1           916358736.0  https://www.fotocasa.es/es/comprar/vivienda/ma...   \n",
       "2           916350408.0  https://www.fotocasa.es/es/comprar/vivienda/ma...   \n",
       "3           916358736.0  https://www.fotocasa.es/es/comprar/vivienda/ma...   \n",
       "4           912177526.0  https://www.fotocasa.es/es/comprar/vivienda/ma...   \n",
       "...                 ...                                                ...   \n",
       "15330       911360461.0  https://www.fotocasa.es/es/comprar/vivienda/ma...   \n",
       "15331       912788039.0  https://www.fotocasa.es/es/comprar/vivienda/ma...   \n",
       "15332       912780348.0  https://www.fotocasa.es/es/comprar/vivienda/ma...   \n",
       "15333       912788039.0  https://www.fotocasa.es/es/comprar/vivienda/ma...   \n",
       "15334       911360461.0  https://www.fotocasa.es/es/comprar/vivienda/ma...   \n",
       "\n",
       "       rooms  bathrooms  surface   price  ... level4Id level5Id level6Id  \\\n",
       "0        3.0        2.0    103.0  195000  ...        0        0        0   \n",
       "1        3.0        1.0      NaN   89000  ...        0        0        0   \n",
       "2        2.0        2.0     99.0  390000  ...        0        0        0   \n",
       "3        3.0        1.0     86.0   89000  ...        0        0        0   \n",
       "4        2.0        2.0    106.0  172000  ...        0        0        0   \n",
       "...      ...        ...      ...     ...  ...      ...      ...      ...   \n",
       "15330    2.0        1.0     96.0  259470  ...        0        0        0   \n",
       "15331    3.0        1.0    150.0  165000  ...        0        0        0   \n",
       "15332    4.0        2.0    175.0  495000  ...        0        0        0   \n",
       "15333    3.0        2.0    101.0  195000  ...        0        0        0   \n",
       "15334    3.0        2.0    152.0  765000  ...        0        0        0   \n",
       "\n",
       "      level7Id level8Id accuracy          latitude          longitude zipCode  \\\n",
       "0            0        0        0  40,2948276786438  -3,44402412135624     NaN   \n",
       "1            0        0        1          40,28674           -3,79351     NaN   \n",
       "2            0        0        0  40,4115646786438  -3,90662252135624     NaN   \n",
       "3            0        0        0  40,2853785786438  -3,79508142135624     NaN   \n",
       "4            0        0        0  40,2998774864376  -3,45226301356237     NaN   \n",
       "...        ...      ...      ...               ...                ...     ...   \n",
       "15330        0        0        0          40,45416           -3,70286     NaN   \n",
       "15331        0        0        0          40,36652           -3,48951     NaN   \n",
       "15332        0        0        0          40,57444           -3,92124     NaN   \n",
       "15333        0        0        0          40,36967           -3,48105     NaN   \n",
       "15334        0        0        0          40,45773           -3,69068     NaN   \n",
       "\n",
       "      customZone  \n",
       "0            NaN  \n",
       "1            NaN  \n",
       "2            NaN  \n",
       "3            NaN  \n",
       "4            NaN  \n",
       "...          ...  \n",
       "15330        NaN  \n",
       "15331        NaN  \n",
       "15332        NaN  \n",
       "15333        NaN  \n",
       "15334        NaN  \n",
       "\n",
       "[15335 rows x 37 columns]"
      ]
     },
     "execution_count": 116,
     "metadata": {},
     "output_type": "execute_result"
    }
   ],
   "source": [
    "# Este archivo CSV contiene puntos y comas en lugar de comas como separadores\n",
    "df = pd.read_csv('assets/real_estate.csv', sep=';')\n",
    "df"
   ]
  },
  {
   "cell_type": "markdown",
   "id": "9670bfd13cfca1e7",
   "metadata": {},
   "source": [
    "## Trabajando con un DataFrame"
   ]
  },
  {
   "attachments": {},
   "cell_type": "markdown",
   "id": "latin-guest",
   "metadata": {},
   "source": [
    "#### Ejercicio 01\n",
    "\n",
    "¿Cuál es la casa más cara del dataset? (★☆☆)\n",
    "\n",
    "Imprime la dirección y el precio de la casa seleccionada. Para visualizar el resultado utiliza un f-string. Por ejemplo:\n",
    "\n",
    "```py\n",
    "f'La casa más cara se encuentra en la dirección: {address} y su precio es {price} €'\n",
    "```"
   ]
  },
  {
   "cell_type": "code",
   "execution_count": 117,
   "id": "developing-optimum",
   "metadata": {},
   "outputs": [
    {
     "data": {
      "text/plain": [
       "{'casa_cara': 'El Escorial', 'precio': 8500000}"
      ]
     },
     "execution_count": 117,
     "metadata": {},
     "output_type": "execute_result"
    }
   ],
   "source": [
    "casa_cara = df['price'].idxmax()\n",
    "fila_casa_cara = df.loc[casa_cara]\n",
    "calle = fila_casa_cara['address']\n",
    "precio = fila_casa_cara['price']\n",
    "results = {'casa_cara': calle, 'precio':int(precio)}\n",
    "results"
   ]
  },
  {
   "attachments": {},
   "cell_type": "markdown",
   "id": "lesser-cosmetic",
   "metadata": {},
   "source": [
    "#### Ejercicio 02\n",
    "\n",
    "¿Cuál es la casa más barata del dataset? (★☆☆)\n",
    "\n",
    "Imprime la dirección y el precio de la casa seleccionada utilizando f-string"
   ]
  },
  {
   "cell_type": "code",
   "execution_count": 118,
   "id": "lovely-oasis",
   "metadata": {},
   "outputs": [
    {
     "data": {
      "text/plain": [
       "{'casa_barata': 'Parla', 'precio': np.int64(0)}"
      ]
     },
     "execution_count": 118,
     "metadata": {},
     "output_type": "execute_result"
    }
   ],
   "source": [
    "casa_barata = df['price'].idxmin()\n",
    "fila_casa_barata = df.loc[casa_barata]\n",
    "calle2 = fila_casa_barata['address']\n",
    "precio2 = fila_casa_barata['price']\n",
    "results = {'casa_barata' : calle2, 'precio': precio2}\n",
    "results"
   ]
  },
  {
   "attachments": {},
   "cell_type": "markdown",
   "id": "compliant-fellowship",
   "metadata": {},
   "source": [
    "#### Ejercicio 03\n",
    "\n",
    "¿Cuál es la casa más grande del dataset? (★☆☆)\n",
    "\n",
    "Imprime la dirección y el área de las casas seleccionadas utilizando f-string"
   ]
  },
  {
   "cell_type": "code",
   "execution_count": 119,
   "id": "f73938ad",
   "metadata": {},
   "outputs": [
    {
     "data": {
      "text/plain": [
       "{'casa_grande_direccion': 'Sevilla la Nueva',\n",
       " 'superficie': np.float64(249000.0)}"
      ]
     },
     "execution_count": 119,
     "metadata": {},
     "output_type": "execute_result"
    }
   ],
   "source": [
    "casa_superficie_grande = df['surface'].idxmax()\n",
    "fila_casa_superficie_grande = df.loc[casa_superficie_grande]\n",
    "direccion = fila_casa_superficie_grande['address']\n",
    "superficie = fila_casa_superficie_grande['surface']\n",
    "results = {'casa_grande_direccion' : direccion, 'superficie': superficie}\n",
    "results"
   ]
  },
  {
   "cell_type": "markdown",
   "id": "89afefb0b0eb970e",
   "metadata": {},
   "source": [
    "#### Ejercicio 04\n",
    "\n",
    "¿Cuál es la casa más pequeña del dataset? (★☆☆)"
   ]
  },
  {
   "cell_type": "code",
   "execution_count": 120,
   "id": "every-tiffany",
   "metadata": {},
   "outputs": [
    {
     "data": {
      "text/plain": [
       "{'casa_pequeña_direccion': 'Calle Amparo,  Madrid Capital',\n",
       " 'superficie': np.float64(249000.0)}"
      ]
     },
     "execution_count": 120,
     "metadata": {},
     "output_type": "execute_result"
    }
   ],
   "source": [
    "casa_superficie_pequeña = df['surface'].idxmin()\n",
    "fila_casa_superficie_pequeña = df.loc[casa_superficie_pequeña]\n",
    "direccion2 = fila_casa_superficie_pequeña['address']\n",
    "superficie2 = fila_casa_superficie_pequeña['surface']\n",
    "results = {'casa_pequeña_direccion' : direccion2, 'superficie': superficie}\n",
    "results"
   ]
  },
  {
   "attachments": {},
   "cell_type": "markdown",
   "id": "crazy-blame",
   "metadata": {},
   "source": [
    "#### Ejercicio 05.\n",
    "\n",
    "¿El dataset contiene valores no admitidos (NAs)? (★☆☆)\n",
    "\n",
    "- Muestra el nombre de las filas seguidas por un booleano (`True` o `False`) según contengan o no contengan NAs.\n",
    "- También muestra el nombre de las columnas seguidas por un booleano (`True` o `False`) según contengan o no contengan NAs."
   ]
  },
  {
   "cell_type": "code",
   "execution_count": 121,
   "id": "transparent-poetry",
   "metadata": {},
   "outputs": [
    {
     "data": {
      "text/plain": [
       "Unnamed: 0          False\n",
       "id_realEstates      False\n",
       "isNew               False\n",
       "realEstate_name      True\n",
       "phone_realEstate     True\n",
       "url_inmueble        False\n",
       "rooms                True\n",
       "bathrooms            True\n",
       "surface              True\n",
       "price               False\n",
       "date                False\n",
       "description          True\n",
       "address             False\n",
       "country             False\n",
       "level1              False\n",
       "level2              False\n",
       "level3              False\n",
       "level4               True\n",
       "level5              False\n",
       "level6               True\n",
       "level7               True\n",
       "level8               True\n",
       "upperLevel          False\n",
       "countryId           False\n",
       "level1Id            False\n",
       "level2Id            False\n",
       "level3Id            False\n",
       "level4Id            False\n",
       "level5Id            False\n",
       "level6Id            False\n",
       "level7Id            False\n",
       "level8Id            False\n",
       "accuracy            False\n",
       "latitude            False\n",
       "longitude           False\n",
       "zipCode              True\n",
       "customZone           True\n",
       "dtype: bool"
      ]
     },
     "execution_count": 121,
     "metadata": {},
     "output_type": "execute_result"
    }
   ],
   "source": [
    "filas_nas = df.isnull().any(axis=1)\n",
    "columnas_nas = df.isnull().any()\n",
    "filas_nas\n",
    "columnas_nas\n"
   ]
  },
  {
   "attachments": {},
   "cell_type": "markdown",
   "id": "italic-hydrogen",
   "metadata": {},
   "source": [
    "#### Ejercicio 06.\n",
    "\n",
    "Elimina las columnas que contengan NAs del dataset, si aplica (★★☆)\n",
    "\n",
    "Muestra las dimensiones del DataFrame original y del DataFrame después de las eliminaciones."
   ]
  },
  {
   "cell_type": "code",
   "execution_count": 122,
   "id": "administrative-roads",
   "metadata": {},
   "outputs": [
    {
     "data": {
      "text/plain": [
       "{'df_original': {'filas': 15335, 'columnas': 37},\n",
       " 'df_modificado': {'filas': 15335, 'columnas': 25}}"
      ]
     },
     "execution_count": 122,
     "metadata": {},
     "output_type": "execute_result"
    }
   ],
   "source": [
    "data_frame = df.dropna(axis=1)\n",
    "results = {'df_original' : {'filas': df.shape[0], 'columnas' : df.shape[1]}, \n",
    "           'df_modificado': {'filas': data_frame.shape[0], 'columnas' : data_frame.shape[1]}}\n",
    "results"
   ]
  },
  {
   "cell_type": "markdown",
   "id": "c00ce93f7105532e",
   "metadata": {},
   "source": [
    "#### Ejercicio 07\n",
    "\n",
    "¿Cuantas poblaciones (columna level5) contiene el dataset? (★☆☆)\n",
    "\n",
    "- Muestra una lista con los nombres de las poblaciones\n",
    "- Muestra el total de las mismas"
   ]
  },
  {
   "cell_type": "code",
   "execution_count": 123,
   "id": "dd8aec62c12bd8db",
   "metadata": {},
   "outputs": [
    {
     "data": {
      "text/plain": [
       "{'total_poblaciones': 168,\n",
       " 'poblaciones': array(['Arganda del Rey', 'Fuenlabrada', 'Boadilla del Monte',\n",
       "        'Las Rozas de Madrid', ' Madrid Capital', 'Villaviciosa de Odón',\n",
       "        'Pinto', 'Valdemoro', 'Navalcarnero', 'Pozuelo de Alarcón',\n",
       "        'Torrejón de Ardoz', 'Navalagamella', 'San Sebastián de los Reyes',\n",
       "        'Rivas-vaciamadrid', 'Alpedrete', 'Móstoles',\n",
       "        'San Fernando de Henares', 'Coslada', 'Becerril de la Sierra',\n",
       "        'Alcalá de Henares', 'Chinchón', 'Parla', 'Alcorcón',\n",
       "        'El Escorial', 'Leganés', 'Pedrezuela', 'Majadahonda',\n",
       "        'Villanueva de la Cañada', 'Villanueva del Pardillo',\n",
       "        'Torrelodones', 'Moralzarzal', 'Mejorada del Campo', 'Aranjuez',\n",
       "        'Corpa', 'Getafe', 'Velilla de San Antonio', 'Sevilla la Nueva',\n",
       "        'San Martín de la Vega', 'Villalbilla', 'Collado Villalba',\n",
       "        'Alcobendas', 'El Molar (Madrid)', 'Moraleja de Enmedio', 'Algete',\n",
       "        'Campo Real', 'Torrejón de la Calzada', 'Colmenar Viejo',\n",
       "        'Valdemorillo', 'Fuente El Saz de Jarama', 'Tres Cantos',\n",
       "        'Arroyomolinos (Madrid)', 'Griñón', 'Paracuellos de Jarama',\n",
       "        'Guadarrama', 'Titulcia', 'Galapagar', 'Collado Mediano',\n",
       "        'Los Molinos', 'San Lorenzo de El Escorial', 'Loeches',\n",
       "        'San Martín de Valdeiglesias', 'Navas del Rey', 'Bustarviejo',\n",
       "        'Manzanares El Real', 'Carabaña', 'Casarrubuelos', 'Cercedilla',\n",
       "        'Fresnedillas de la Oliva', 'Valdemaqueda', 'Robledo de Chavela',\n",
       "        'Miraflores de la Sierra', 'Humanes de Madrid',\n",
       "        'Valdetorres de Jarama', 'San Agustín del Guadalix',\n",
       "        'Ciempozuelos', 'Camarma de Esteruelas', 'Torres de la Alameda',\n",
       "        'Talamanca de Jarama', 'El Atazar', 'Hoyo de Manzanares',\n",
       "        'El Boalo - Cerceda – Mataelpino', 'El Álamo', 'Valdilecha',\n",
       "        'Valdeolmos-Alalpardo', 'Guadalix de la Sierra',\n",
       "        'Belmonte de Tajo', 'El Vellón', 'Brunete', 'Redueña',\n",
       "        'Morata de Tajuña', 'Tielmes', 'Gargantilla del Lozoya', 'Meco',\n",
       "        'Venturada', 'Quijorna', 'Cenicientos', 'Torrejón de Velasco',\n",
       "        'Navacerrada', 'Santa María de la Alameda', 'Orusco de Tajuña',\n",
       "        'Daganzo de Arriba', 'Villamanta', 'Anchuelo', 'Valdaracete',\n",
       "        'Ajalvir', 'Los Santos de la Humosa', 'Villamanrique de Tajo',\n",
       "        'Colmenar de Oreja', 'Villa del Prado', 'Fuentidueña de Tajo',\n",
       "        'Colmenar del Arroyo', 'Valdelaguna', 'Cubas de la Sagra',\n",
       "        'Valdeavero', 'Aldea del Fresno', 'Ribatejada', 'Torrelaguna',\n",
       "        'Batres', 'Pezuela de las Torres', 'Colmenarejo',\n",
       "        'Serranillos del Valle', 'Cobeña', 'Soto del Real', 'El Berrueco',\n",
       "        'Villanueva de Perales', 'Fresno de Torote - Serracines',\n",
       "        'Pozuelo del Rey', 'Pelayos de la Presa', 'La Cabrera',\n",
       "        'Nuevo Baztán', 'Perales de Tajuña', 'Villaconejos',\n",
       "        'Villarejo de Salvanés', 'Cadalso de los Vidrios', 'Santorcaz',\n",
       "        'Madarcos', 'Garganta de los Montes', 'Puentes Viejas',\n",
       "        'Torremocha de Jarama', 'Valdemanco', 'Braojos',\n",
       "        'Lozoyuela-navas-sieteiglesias', 'Piñuécar-gandullas',\n",
       "        'Valdepiélagos', 'Valverde de Alcalá', 'Villar del Olmo',\n",
       "        'Villamantilla', 'Horcajo de la Sierra', 'Gascones', 'Zarzalejo',\n",
       "        'Villavieja del Lozoya', 'Brea de Tajo', 'Estremera', 'Chapinería',\n",
       "        'Navarredonda', 'Patones', 'Ambite', 'Navalafuente', 'Lozoya',\n",
       "        'Canencia', 'Cabanillas de la Sierra', 'Buitrago del Lozoya',\n",
       "        'Fresno de Torote', 'Robregordo', 'Pinilla del Valle', 'Rascafría',\n",
       "        'La Hiruela', 'Montejo de la Sierra'], dtype=object)}"
      ]
     },
     "execution_count": 123,
     "metadata": {},
     "output_type": "execute_result"
    }
   ],
   "source": [
    "poblaciones = df['level5'].unique()\n",
    "total_poblaciones = len(poblaciones)\n",
    "results = {'total_poblaciones' : total_poblaciones, 'poblaciones' : poblaciones}\n",
    "results\n"
   ]
  },
  {
   "cell_type": "markdown",
   "id": "ffe874b946959731",
   "metadata": {},
   "source": [
    "#### Ejercicio 08\n",
    "\n",
    "¿Cuál es la media de precios en la población (columna level5) de \"Arroyomolinos (Madrid)\"? (★★☆)"
   ]
  },
  {
   "cell_type": "code",
   "execution_count": 124,
   "id": "1454ad464d3f1dfe",
   "metadata": {},
   "outputs": [
    {
     "data": {
      "text/plain": [
       "np.float64(294541.6)"
      ]
     },
     "execution_count": 124,
     "metadata": {},
     "output_type": "execute_result"
    }
   ],
   "source": [
    "poblacion_arroyomolinos = df['level5'] == 'Arroyomolinos (Madrid)'\n",
    "df_arroyomolinos = df.loc[poblacion_arroyomolinos]\n",
    "media_precios = df_arroyomolinos['price'].mean()\n",
    "results = round(media_precios, 2)\n",
    "results\n"
   ]
  },
  {
   "attachments": {},
   "cell_type": "markdown",
   "id": "actual-edinburgh",
   "metadata": {},
   "source": [
    "#### Ejercicio 09.\n",
    "\n",
    "¿Los precios promedios de \"Valdemorillo\" y \"Galapagar\" son iguales? (★★☆)\n",
    "\n",
    "- Muestra ambos promedios\n",
    "- Escribe en una celda markdown una conclusión sobre ellos"
   ]
  },
  {
   "cell_type": "code",
   "execution_count": 131,
   "id": "numeric-commerce",
   "metadata": {},
   "outputs": [
    {
     "data": {
      "text/plain": [
       "{'mean_valdemorillo': np.float64(363860.2931034483),\n",
       " 'mean_galapagar': np.float64(360063.20238095237),\n",
       " 'difference_mean': np.float64(3797.090722495923)}"
      ]
     },
     "execution_count": 131,
     "metadata": {},
     "output_type": "execute_result"
    }
   ],
   "source": [
    "valdemorillo = df['level5'] == 'Valdemorillo'\n",
    "galapagar = df['level5'] == 'Galapagar'\n",
    "df_valdemorillo = df[valdemorillo]\n",
    "df_galapagar = df[galapagar]\n",
    "\n",
    "promedio_v = df_valdemorillo['price'].mean()\n",
    "promedio_g = df_galapagar['price'].mean()\n",
    "\n",
    "diferencia = promedio_v - promedio_g\n",
    "\n",
    "results = {'mean_valdemorillo' : promedio_v, 'mean_galapagar' : promedio_g, 'difference_mean' : diferencia}\n",
    "results"
   ]
  },
  {
   "cell_type": "markdown",
   "id": "6862fac3",
   "metadata": {},
   "source": [
    "A pesar de ser poblaciones distintas ambas comparten un promedio de precios muy parecidos, con una diferencia de 3797.09€ lo que indica que comparten ciertas características similares."
   ]
  },
  {
   "attachments": {},
   "cell_type": "markdown",
   "id": "lonely-article",
   "metadata": {},
   "source": [
    "#### Ejercicio 10\n",
    "\n",
    "¿Los promedios de precio por metro cuadrado (precio/m2) de \"Valdemorillo\" y \"Galapagar\" son iguales? (★★☆)\n",
    "\n",
    "> Pista: Crea una nueva columna llamada `pps` (*price per square* o precio por metro cuadrado) y luego analiza los valores.\n",
    "\n",
    "- Muestra ambos promedios de precio por metro cuadrado\n",
    "- Escribe en una celda markdown una conclusión sobre ellos"
   ]
  },
  {
   "cell_type": "code",
   "execution_count": 132,
   "id": "common-drilling",
   "metadata": {},
   "outputs": [
    {
     "data": {
      "text/plain": [
       "{'m2_valdemorillo': np.float64(1317.9502109024986),\n",
       " 'm2_galapagar': np.float64(1606.3240303094024),\n",
       " 'difference_per': np.float64(21.88)}"
      ]
     },
     "execution_count": 132,
     "metadata": {},
     "output_type": "execute_result"
    }
   ],
   "source": [
    "df['pps'] = df['price'] / df['surface']\n",
    "\n",
    "promedio_v_pps = df_valdemorillo['pps'].mean()\n",
    "promedio_g_pps = df_galapagar['pps'].mean()\n",
    "\n",
    "diferencia_porcentual = round(((promedio_g_pps - promedio_v_pps) / promedio_v_pps) * 100, 2)\n",
    "diferencia_porcentual\n",
    "\n",
    "results = {'m2_valdemorillo' : promedio_v_pps, 'm2_galapagar' : promedio_g_pps, 'difference_per' : diferencia_porcentual}\n",
    "results"
   ]
  },
  {
   "cell_type": "markdown",
   "id": "55064c44",
   "metadata": {},
   "source": [
    "Ambas poblaciones tienen un precio promedio similar, sin embargo hay una gran diferencia de valor en el m2 por superficie, del 21,88%.\n",
    "Esto es un indicativo que en las casas de Valdemorillo ofrece una mejor relación superficie-precio, el m2 por superficie se está vendiendo notablemente más barato que las casas ubicadas en Galapagar."
   ]
  },
  {
   "attachments": {},
   "cell_type": "markdown",
   "id": "coordinate-sunrise",
   "metadata": {},
   "source": [
    "#### Ejercicio 11\n",
    "\n",
    "¿Cuántas agencia de bienes raíces contiene el dataset? (★★☆)\n",
    "\n",
    "- Muestra el valor obtenido."
   ]
  },
  {
   "cell_type": "code",
   "execution_count": 133,
   "id": "b0ff419e",
   "metadata": {},
   "outputs": [
    {
     "data": {
      "text/plain": [
       "(1822,)"
      ]
     },
     "execution_count": 133,
     "metadata": {},
     "output_type": "execute_result"
    }
   ],
   "source": [
    "count_real_estate = df['realEstate_name'].unique()\n",
    "count_real_estate.shape"
   ]
  },
  {
   "cell_type": "code",
   "execution_count": 134,
   "id": "290eb655",
   "metadata": {},
   "outputs": [
    {
     "data": {
      "text/plain": [
       "array(['ferrari 57 inmobiliaria', 'tecnocasa fuenlabrada ferrocarril',\n",
       "       'look find boadilla', ..., 'redpiso villaverde bajo san cristobal',\n",
       "       'gestion comercial', 'nieves'], shape=(1822,), dtype=object)"
      ]
     },
     "execution_count": 134,
     "metadata": {},
     "output_type": "execute_result"
    }
   ],
   "source": [
    "count_real_estate"
   ]
  },
  {
   "attachments": {},
   "cell_type": "markdown",
   "id": "binding-ebony",
   "metadata": {},
   "source": [
    "#### Ejercicio 12\n",
    "\n",
    "¿Cuál es la población (columna level5) que contiene la mayor cantidad de casas?(★★☆)\n",
    "\n",
    "- Muestra la población y el número de casas."
   ]
  },
  {
   "cell_type": "code",
   "execution_count": 138,
   "id": "static-perry",
   "metadata": {},
   "outputs": [
    {
     "data": {
      "text/plain": [
       "{'poblacion_max': ' Madrid Capital', 'casas': np.int64(6643)}"
      ]
     },
     "execution_count": 138,
     "metadata": {},
     "output_type": "execute_result"
    }
   ],
   "source": [
    "poblaciones = df['level5'].value_counts()\n",
    "poblacion_max = poblaciones.index[0]\n",
    "casas_max = poblaciones.iloc[0]\n",
    "results = {'poblacion_max' : poblacion_max, 'casas': casas_max}\n",
    "results\n"
   ]
  },
  {
   "cell_type": "markdown",
   "id": "f6891b36e4d016c4",
   "metadata": {},
   "source": [
    "---\n",
    "\n",
    "## Trabajando con un subconjunto del DataFrame"
   ]
  },
  {
   "attachments": {},
   "cell_type": "markdown",
   "id": "entire-classification",
   "metadata": {},
   "source": [
    "#### Ejercicio 13\n",
    "\n",
    "Ahora vamos a trabajar con el \"cinturón sur\" de Madrid.\n",
    "\n",
    "Haz un subconjunto del DataFrame original que contenga las siguientes poblaciones (columna level5): \"Fuenlabrada\", \"Leganés\", \"Getafe\", \"Alcorcón\" (★★☆)\n",
    "\n",
    "> Pista: Filtra el DataFrame original usando la columna `level5` y la función `isin`."
   ]
  },
  {
   "cell_type": "code",
   "execution_count": null,
   "id": "binary-input",
   "metadata": {},
   "outputs": [
    {
     "data": {
      "text/html": [
       "<div>\n",
       "<style scoped>\n",
       "    .dataframe tbody tr th:only-of-type {\n",
       "        vertical-align: middle;\n",
       "    }\n",
       "\n",
       "    .dataframe tbody tr th {\n",
       "        vertical-align: top;\n",
       "    }\n",
       "\n",
       "    .dataframe thead th {\n",
       "        text-align: right;\n",
       "    }\n",
       "</style>\n",
       "<table border=\"1\" class=\"dataframe\">\n",
       "  <thead>\n",
       "    <tr style=\"text-align: right;\">\n",
       "      <th></th>\n",
       "      <th>Unnamed: 0</th>\n",
       "      <th>id_realEstates</th>\n",
       "      <th>isNew</th>\n",
       "      <th>realEstate_name</th>\n",
       "      <th>phone_realEstate</th>\n",
       "      <th>url_inmueble</th>\n",
       "      <th>rooms</th>\n",
       "      <th>bathrooms</th>\n",
       "      <th>surface</th>\n",
       "      <th>price</th>\n",
       "      <th>...</th>\n",
       "      <th>level5Id</th>\n",
       "      <th>level6Id</th>\n",
       "      <th>level7Id</th>\n",
       "      <th>level8Id</th>\n",
       "      <th>accuracy</th>\n",
       "      <th>latitude</th>\n",
       "      <th>longitude</th>\n",
       "      <th>zipCode</th>\n",
       "      <th>customZone</th>\n",
       "      <th>pps</th>\n",
       "    </tr>\n",
       "  </thead>\n",
       "  <tbody>\n",
       "    <tr>\n",
       "      <th>1</th>\n",
       "      <td>2</td>\n",
       "      <td>153867863</td>\n",
       "      <td>False</td>\n",
       "      <td>tecnocasa fuenlabrada ferrocarril</td>\n",
       "      <td>916358736.0</td>\n",
       "      <td>https://www.fotocasa.es/es/comprar/vivienda/ma...</td>\n",
       "      <td>3.0</td>\n",
       "      <td>1.0</td>\n",
       "      <td>NaN</td>\n",
       "      <td>89000</td>\n",
       "      <td>...</td>\n",
       "      <td>0</td>\n",
       "      <td>0</td>\n",
       "      <td>0</td>\n",
       "      <td>0</td>\n",
       "      <td>1</td>\n",
       "      <td>40,28674</td>\n",
       "      <td>-3,79351</td>\n",
       "      <td>NaN</td>\n",
       "      <td>NaN</td>\n",
       "      <td>NaN</td>\n",
       "    </tr>\n",
       "    <tr>\n",
       "      <th>3</th>\n",
       "      <td>4</td>\n",
       "      <td>152776331</td>\n",
       "      <td>False</td>\n",
       "      <td>tecnocasa fuenlabrada ferrocarril</td>\n",
       "      <td>916358736.0</td>\n",
       "      <td>https://www.fotocasa.es/es/comprar/vivienda/ma...</td>\n",
       "      <td>3.0</td>\n",
       "      <td>1.0</td>\n",
       "      <td>86.0</td>\n",
       "      <td>89000</td>\n",
       "      <td>...</td>\n",
       "      <td>0</td>\n",
       "      <td>0</td>\n",
       "      <td>0</td>\n",
       "      <td>0</td>\n",
       "      <td>0</td>\n",
       "      <td>40,2853785786438</td>\n",
       "      <td>-3,79508142135624</td>\n",
       "      <td>NaN</td>\n",
       "      <td>NaN</td>\n",
       "      <td>1034.883721</td>\n",
       "    </tr>\n",
       "    <tr>\n",
       "      <th>85</th>\n",
       "      <td>86</td>\n",
       "      <td>153152077</td>\n",
       "      <td>False</td>\n",
       "      <td>sinergical inmobiliaria</td>\n",
       "      <td>NaN</td>\n",
       "      <td>https://www.fotocasa.es/es/comprar/vivienda/le...</td>\n",
       "      <td>1.0</td>\n",
       "      <td>1.0</td>\n",
       "      <td>50.0</td>\n",
       "      <td>107000</td>\n",
       "      <td>...</td>\n",
       "      <td>0</td>\n",
       "      <td>0</td>\n",
       "      <td>0</td>\n",
       "      <td>0</td>\n",
       "      <td>1</td>\n",
       "      <td>40,35059</td>\n",
       "      <td>-3,82693</td>\n",
       "      <td>NaN</td>\n",
       "      <td>NaN</td>\n",
       "      <td>2140.000000</td>\n",
       "    </tr>\n",
       "    <tr>\n",
       "      <th>94</th>\n",
       "      <td>95</td>\n",
       "      <td>153995577</td>\n",
       "      <td>False</td>\n",
       "      <td>viviendas365com</td>\n",
       "      <td>911226014.0</td>\n",
       "      <td>https://www.fotocasa.es/es/comprar/vivienda/le...</td>\n",
       "      <td>3.0</td>\n",
       "      <td>2.0</td>\n",
       "      <td>120.0</td>\n",
       "      <td>320000</td>\n",
       "      <td>...</td>\n",
       "      <td>0</td>\n",
       "      <td>0</td>\n",
       "      <td>0</td>\n",
       "      <td>0</td>\n",
       "      <td>0</td>\n",
       "      <td>40,31933</td>\n",
       "      <td>-3,77574</td>\n",
       "      <td>NaN</td>\n",
       "      <td>NaN</td>\n",
       "      <td>2666.666667</td>\n",
       "    </tr>\n",
       "    <tr>\n",
       "      <th>109</th>\n",
       "      <td>110</td>\n",
       "      <td>153586414</td>\n",
       "      <td>False</td>\n",
       "      <td>area uno asesores inmobiliarios</td>\n",
       "      <td>912664081.0</td>\n",
       "      <td>https://www.fotocasa.es/es/comprar/vivienda/ma...</td>\n",
       "      <td>3.0</td>\n",
       "      <td>3.0</td>\n",
       "      <td>142.0</td>\n",
       "      <td>425000</td>\n",
       "      <td>...</td>\n",
       "      <td>0</td>\n",
       "      <td>0</td>\n",
       "      <td>0</td>\n",
       "      <td>0</td>\n",
       "      <td>0</td>\n",
       "      <td>40,3313411</td>\n",
       "      <td>-3,8313868</td>\n",
       "      <td>NaN</td>\n",
       "      <td>NaN</td>\n",
       "      <td>2992.957746</td>\n",
       "    </tr>\n",
       "    <tr>\n",
       "      <th>...</th>\n",
       "      <td>...</td>\n",
       "      <td>...</td>\n",
       "      <td>...</td>\n",
       "      <td>...</td>\n",
       "      <td>...</td>\n",
       "      <td>...</td>\n",
       "      <td>...</td>\n",
       "      <td>...</td>\n",
       "      <td>...</td>\n",
       "      <td>...</td>\n",
       "      <td>...</td>\n",
       "      <td>...</td>\n",
       "      <td>...</td>\n",
       "      <td>...</td>\n",
       "      <td>...</td>\n",
       "      <td>...</td>\n",
       "      <td>...</td>\n",
       "      <td>...</td>\n",
       "      <td>...</td>\n",
       "      <td>...</td>\n",
       "      <td>...</td>\n",
       "    </tr>\n",
       "    <tr>\n",
       "      <th>15275</th>\n",
       "      <td>15276</td>\n",
       "      <td>153903887</td>\n",
       "      <td>False</td>\n",
       "      <td>aliseda servicios de gestion inmobiliaria</td>\n",
       "      <td>911368198.0</td>\n",
       "      <td>https://www.fotocasa.es/es/comprar/vivienda/al...</td>\n",
       "      <td>3.0</td>\n",
       "      <td>1.0</td>\n",
       "      <td>78.0</td>\n",
       "      <td>138000</td>\n",
       "      <td>...</td>\n",
       "      <td>0</td>\n",
       "      <td>0</td>\n",
       "      <td>0</td>\n",
       "      <td>0</td>\n",
       "      <td>1</td>\n",
       "      <td>40,31381</td>\n",
       "      <td>-3,83733</td>\n",
       "      <td>NaN</td>\n",
       "      <td>NaN</td>\n",
       "      <td>1769.230769</td>\n",
       "    </tr>\n",
       "    <tr>\n",
       "      <th>15291</th>\n",
       "      <td>15292</td>\n",
       "      <td>151697757</td>\n",
       "      <td>False</td>\n",
       "      <td>unipiso</td>\n",
       "      <td>912788631.0</td>\n",
       "      <td>https://www.fotocasa.es/es/comprar/vivienda/al...</td>\n",
       "      <td>3.0</td>\n",
       "      <td>2.0</td>\n",
       "      <td>110.0</td>\n",
       "      <td>279000</td>\n",
       "      <td>...</td>\n",
       "      <td>0</td>\n",
       "      <td>0</td>\n",
       "      <td>0</td>\n",
       "      <td>0</td>\n",
       "      <td>0</td>\n",
       "      <td>40,3259051</td>\n",
       "      <td>-3,76318</td>\n",
       "      <td>NaN</td>\n",
       "      <td>NaN</td>\n",
       "      <td>2536.363636</td>\n",
       "    </tr>\n",
       "    <tr>\n",
       "      <th>15305</th>\n",
       "      <td>15306</td>\n",
       "      <td>153902389</td>\n",
       "      <td>False</td>\n",
       "      <td>jadein ferrero</td>\n",
       "      <td>914871639.0</td>\n",
       "      <td>https://www.fotocasa.es/es/comprar/vivienda/ma...</td>\n",
       "      <td>3.0</td>\n",
       "      <td>2.0</td>\n",
       "      <td>85.0</td>\n",
       "      <td>170000</td>\n",
       "      <td>...</td>\n",
       "      <td>0</td>\n",
       "      <td>0</td>\n",
       "      <td>0</td>\n",
       "      <td>0</td>\n",
       "      <td>0</td>\n",
       "      <td>40,2882193</td>\n",
       "      <td>-3,8098617</td>\n",
       "      <td>NaN</td>\n",
       "      <td>NaN</td>\n",
       "      <td>2000.000000</td>\n",
       "    </tr>\n",
       "    <tr>\n",
       "      <th>15322</th>\n",
       "      <td>15323</td>\n",
       "      <td>153871864</td>\n",
       "      <td>False</td>\n",
       "      <td>gestion comercial</td>\n",
       "      <td>911220662.0</td>\n",
       "      <td>https://www.fotocasa.es/es/comprar/vivienda/ma...</td>\n",
       "      <td>3.0</td>\n",
       "      <td>1.0</td>\n",
       "      <td>91.0</td>\n",
       "      <td>112000</td>\n",
       "      <td>...</td>\n",
       "      <td>0</td>\n",
       "      <td>0</td>\n",
       "      <td>0</td>\n",
       "      <td>0</td>\n",
       "      <td>0</td>\n",
       "      <td>40,28282</td>\n",
       "      <td>-3,78892</td>\n",
       "      <td>NaN</td>\n",
       "      <td>NaN</td>\n",
       "      <td>1230.769231</td>\n",
       "    </tr>\n",
       "    <tr>\n",
       "      <th>15325</th>\n",
       "      <td>15326</td>\n",
       "      <td>153901467</td>\n",
       "      <td>False</td>\n",
       "      <td>montehogar 68</td>\n",
       "      <td>911790675.0</td>\n",
       "      <td>https://www.fotocasa.es/es/comprar/vivienda/ma...</td>\n",
       "      <td>2.0</td>\n",
       "      <td>2.0</td>\n",
       "      <td>99.0</td>\n",
       "      <td>215000</td>\n",
       "      <td>...</td>\n",
       "      <td>0</td>\n",
       "      <td>0</td>\n",
       "      <td>0</td>\n",
       "      <td>0</td>\n",
       "      <td>1</td>\n",
       "      <td>40,28062</td>\n",
       "      <td>-3,79869</td>\n",
       "      <td>NaN</td>\n",
       "      <td>NaN</td>\n",
       "      <td>2171.717172</td>\n",
       "    </tr>\n",
       "  </tbody>\n",
       "</table>\n",
       "<p>907 rows × 38 columns</p>\n",
       "</div>"
      ],
      "text/plain": [
       "       Unnamed: 0  id_realEstates  isNew  \\\n",
       "1               2       153867863  False   \n",
       "3               4       152776331  False   \n",
       "85             86       153152077  False   \n",
       "94             95       153995577  False   \n",
       "109           110       153586414  False   \n",
       "...           ...             ...    ...   \n",
       "15275       15276       153903887  False   \n",
       "15291       15292       151697757  False   \n",
       "15305       15306       153902389  False   \n",
       "15322       15323       153871864  False   \n",
       "15325       15326       153901467  False   \n",
       "\n",
       "                                 realEstate_name  phone_realEstate  \\\n",
       "1              tecnocasa fuenlabrada ferrocarril       916358736.0   \n",
       "3              tecnocasa fuenlabrada ferrocarril       916358736.0   \n",
       "85                       sinergical inmobiliaria               NaN   \n",
       "94                               viviendas365com       911226014.0   \n",
       "109              area uno asesores inmobiliarios       912664081.0   \n",
       "...                                          ...               ...   \n",
       "15275  aliseda servicios de gestion inmobiliaria       911368198.0   \n",
       "15291                                    unipiso       912788631.0   \n",
       "15305                             jadein ferrero       914871639.0   \n",
       "15322                          gestion comercial       911220662.0   \n",
       "15325                              montehogar 68       911790675.0   \n",
       "\n",
       "                                            url_inmueble  rooms  bathrooms  \\\n",
       "1      https://www.fotocasa.es/es/comprar/vivienda/ma...    3.0        1.0   \n",
       "3      https://www.fotocasa.es/es/comprar/vivienda/ma...    3.0        1.0   \n",
       "85     https://www.fotocasa.es/es/comprar/vivienda/le...    1.0        1.0   \n",
       "94     https://www.fotocasa.es/es/comprar/vivienda/le...    3.0        2.0   \n",
       "109    https://www.fotocasa.es/es/comprar/vivienda/ma...    3.0        3.0   \n",
       "...                                                  ...    ...        ...   \n",
       "15275  https://www.fotocasa.es/es/comprar/vivienda/al...    3.0        1.0   \n",
       "15291  https://www.fotocasa.es/es/comprar/vivienda/al...    3.0        2.0   \n",
       "15305  https://www.fotocasa.es/es/comprar/vivienda/ma...    3.0        2.0   \n",
       "15322  https://www.fotocasa.es/es/comprar/vivienda/ma...    3.0        1.0   \n",
       "15325  https://www.fotocasa.es/es/comprar/vivienda/ma...    2.0        2.0   \n",
       "\n",
       "       surface   price  ... level5Id level6Id level7Id level8Id accuracy  \\\n",
       "1          NaN   89000  ...        0        0        0        0        1   \n",
       "3         86.0   89000  ...        0        0        0        0        0   \n",
       "85        50.0  107000  ...        0        0        0        0        1   \n",
       "94       120.0  320000  ...        0        0        0        0        0   \n",
       "109      142.0  425000  ...        0        0        0        0        0   \n",
       "...        ...     ...  ...      ...      ...      ...      ...      ...   \n",
       "15275     78.0  138000  ...        0        0        0        0        1   \n",
       "15291    110.0  279000  ...        0        0        0        0        0   \n",
       "15305     85.0  170000  ...        0        0        0        0        0   \n",
       "15322     91.0  112000  ...        0        0        0        0        0   \n",
       "15325     99.0  215000  ...        0        0        0        0        1   \n",
       "\n",
       "               latitude          longitude zipCode customZone          pps  \n",
       "1              40,28674           -3,79351     NaN        NaN          NaN  \n",
       "3      40,2853785786438  -3,79508142135624     NaN        NaN  1034.883721  \n",
       "85             40,35059           -3,82693     NaN        NaN  2140.000000  \n",
       "94             40,31933           -3,77574     NaN        NaN  2666.666667  \n",
       "109          40,3313411         -3,8313868     NaN        NaN  2992.957746  \n",
       "...                 ...                ...     ...        ...          ...  \n",
       "15275          40,31381           -3,83733     NaN        NaN  1769.230769  \n",
       "15291        40,3259051           -3,76318     NaN        NaN  2536.363636  \n",
       "15305        40,2882193         -3,8098617     NaN        NaN  2000.000000  \n",
       "15322          40,28282           -3,78892     NaN        NaN  1230.769231  \n",
       "15325          40,28062           -3,79869     NaN        NaN  2171.717172  \n",
       "\n",
       "[907 rows x 38 columns]"
      ]
     },
     "execution_count": 74,
     "metadata": {},
     "output_type": "execute_result"
    }
   ],
   "source": [
    "masc_lvl5 = df['level5'].isin(['Fuenlabrada', 'Leganés', 'Getafe', 'Alcorcón'])\n",
    "df_sub = df[masc_lvl5] \n",
    "df_sub"
   ]
  },
  {
   "attachments": {},
   "cell_type": "markdown",
   "id": "speaking-diamond",
   "metadata": {},
   "source": [
    "#### Ejercicio 14\n",
    "\n",
    "Calcula la media y la varianza de muestra para las siguientes variables: precio, habitaciones, superficie y baños (★★★)\n",
    "\n",
    "> Debes usar el subset obtenido en la pregunta 13\n",
    "\n",
    "- Crea y visualiza un diccionario con todos los valores"
   ]
  },
  {
   "cell_type": "code",
   "execution_count": null,
   "id": "random-feeling",
   "metadata": {},
   "outputs": [
    {
     "data": {
      "text/plain": [
       "{'price': {'var': 14921367508.05, 'mean': 223094.48},\n",
       " 'rooms': {'var': 0.72, 'mean': 3.02},\n",
       " 'surface': {'var': 4263.05, 'mean': 111.75},\n",
       " 'bathrooms': {'var': 0.57, 'mean': 1.63}}"
      ]
     },
     "execution_count": 75,
     "metadata": {},
     "output_type": "execute_result"
    }
   ],
   "source": [
    "variables = ['price', 'rooms', 'surface', 'bathrooms']\n",
    "resultados = round(df_sub[variables].agg(['var', 'mean']), 2)\n",
    "diccionario = (resultados.to_dict('dict'))\n",
    "diccionario"
   ]
  },
  {
   "attachments": {},
   "cell_type": "markdown",
   "id": "revolutionary-matrix",
   "metadata": {},
   "source": [
    "#### Ejercicio 15\n",
    "\n",
    "¿Cuál es la casa más cara de cada población del cinturón sur de Madríd? (★★☆)\n",
    "\n",
    "> Debes usar el subset obtenido en la pregunta 13\n",
    "\n",
    "- Genera un DataFrame con esta información\n",
    "- Muestra tanto la dirección como el precio de la casa seleccionada de cada población.\n",
    "- Genera conclusiones en una celda markdown"
   ]
  },
  {
   "cell_type": "code",
   "execution_count": null,
   "id": "fifteen-browse",
   "metadata": {},
   "outputs": [
    {
     "data": {
      "text/html": [
       "<div>\n",
       "<style scoped>\n",
       "    .dataframe tbody tr th:only-of-type {\n",
       "        vertical-align: middle;\n",
       "    }\n",
       "\n",
       "    .dataframe tbody tr th {\n",
       "        vertical-align: top;\n",
       "    }\n",
       "\n",
       "    .dataframe thead th {\n",
       "        text-align: right;\n",
       "    }\n",
       "</style>\n",
       "<table border=\"1\" class=\"dataframe\">\n",
       "  <thead>\n",
       "    <tr style=\"text-align: right;\">\n",
       "      <th></th>\n",
       "      <th>level5</th>\n",
       "      <th>address</th>\n",
       "      <th>price</th>\n",
       "    </tr>\n",
       "  </thead>\n",
       "  <tbody>\n",
       "    <tr>\n",
       "      <th>2881</th>\n",
       "      <td>Getafe</td>\n",
       "      <td>Getafe</td>\n",
       "      <td>1050000</td>\n",
       "    </tr>\n",
       "    <tr>\n",
       "      <th>5585</th>\n",
       "      <td>Alcorcón</td>\n",
       "      <td>Alcorcón</td>\n",
       "      <td>950000</td>\n",
       "    </tr>\n",
       "    <tr>\n",
       "      <th>10412</th>\n",
       "      <td>Leganés</td>\n",
       "      <td>Avenida Reina Sofía, Leganés</td>\n",
       "      <td>650000</td>\n",
       "    </tr>\n",
       "    <tr>\n",
       "      <th>11561</th>\n",
       "      <td>Fuenlabrada</td>\n",
       "      <td>Calle de Paulo Freire, 5, Fuenlabrada</td>\n",
       "      <td>490000</td>\n",
       "    </tr>\n",
       "  </tbody>\n",
       "</table>\n",
       "</div>"
      ],
      "text/plain": [
       "            level5                                address    price\n",
       "2881        Getafe                                 Getafe  1050000\n",
       "5585      Alcorcón                               Alcorcón   950000\n",
       "10412      Leganés           Avenida Reina Sofía, Leganés   650000\n",
       "11561  Fuenlabrada  Calle de Paulo Freire, 5, Fuenlabrada   490000"
      ]
     },
     "execution_count": 110,
     "metadata": {},
     "output_type": "execute_result"
    }
   ],
   "source": [
    "df_fuenlabrada = df_sub[df_sub['level5'] == 'Fuenlabrada']\n",
    "df_leganes = df_sub[df_sub['level5'] == 'Leganés']\n",
    "df_getafe = df_sub[df_sub['level5'] == 'Getafe']\n",
    "df_alcorcon = df_sub[df_sub['level5'] == 'Alcorcón']\n",
    "\n",
    "df_ordenado = df_sub.sort_values('price', ascending = False)\n",
    "df_casas_caras = df_ordenado.drop_duplicates('level5')\n",
    "df_sur = df_casas_caras[['level5', 'address', 'price']]\n",
    "df_sur\n",
    "\n"
   ]
  },
  {
   "cell_type": "markdown",
   "id": "65b78b7f",
   "metadata": {},
   "source": [
    ">***OBSERVACIONES***\n",
    "\n",
    "> Estos valores altos representan los puntos atipicos, los chalets de lujo de las poblaciones."
   ]
  },
  {
   "attachments": {},
   "cell_type": "markdown",
   "id": "patent-jonathan",
   "metadata": {},
   "source": [
    "#### Ejercicio 16\n",
    "\n",
    "¿Qué puedes decir acerca del precio por metro cuadrado (precio/m2) entre los municipios de 'Getafe' y 'Alcorcón'? (★★☆)\n",
    "\n",
    "> Debes usar el subset obtenido en la pregunta 13\n",
    ">\n",
    "> Pista: Crea una nueva columna llamada `pps` (price per square en inglés) y luego analiza los valores"
   ]
  },
  {
   "cell_type": "code",
   "execution_count": null,
   "id": "initial-liverpool",
   "metadata": {},
   "outputs": [
    {
     "data": {
      "text/plain": [
       "{'promedio_m2_getafe': np.float64(2066.31),\n",
       " 'promedio_m2_alcorcon': np.float64(2239.3),\n",
       " 'diferencia_per': np.float64(8.37)}"
      ]
     },
     "execution_count": 111,
     "metadata": {},
     "output_type": "execute_result"
    }
   ],
   "source": [
    "average_getafe  = round(df_getafe['pps'].mean(), 2)\n",
    "average_alcorcon = round(df_alcorcon['pps'].mean() ,2)\n",
    "\n",
    "diferencia_porcentual = round(((average_alcorcon - average_getafe) / average_getafe) * 100, 2)\n",
    "\n",
    "results = {'promedio_m2_getafe': average_getafe, 'promedio_m2_alcorcon' : average_alcorcon, 'diferencia_per' : diferencia_porcentual}\n",
    "results"
   ]
  },
  {
   "cell_type": "markdown",
   "id": "88571234",
   "metadata": {},
   "source": [
    ">***OBSERVACIONES***\n",
    "\n",
    "> \"La diferencia porcentual del precio promedio por metro cuadrado entre Getafe y Alcorcón es relativamente baja (8,37€). Esto se debe a que ambas poblaciones pertenecen al cinturón sur de Madrid y comparten un contexto inmobiliario similar. Por lo tanto, el mercado las valora de manera muy pareja, reflejando precios por metro cuadrado muy competitivos y homogéneos.\""
   ]
  },
  {
   "cell_type": "markdown",
   "id": "77f4fb6b000f9e0b",
   "metadata": {},
   "source": [
    "## Conclusiones"
   ]
  },
  {
   "cell_type": "markdown",
   "id": "d68570bb7b80a83e",
   "metadata": {},
   "source": [
    "#### Ejercicio 17\n",
    "\n",
    "Escribe aquí tus conclusiones acerca de este proyecto"
   ]
  },
  {
   "cell_type": "markdown",
   "id": "00fb9690",
   "metadata": {},
   "source": [
    ">***OBSERVACIONES***\n",
    "\n",
    "> El proyecto ayuda al estudiante de forma escalada a familiarisarse y entender como filtrar y acceder a los elementos de un dataframe.\n",
    "> Este proyecto ha servido para adquirir una comprensión fundamental del análisis exploratorio de datos (EDA) y la manipulación de Pandas en Python. "
   ]
  }
 ],
 "metadata": {
  "kernelspec": {
   "display_name": "Python 3",
   "language": "python",
   "name": "python3"
  },
  "language_info": {
   "codemirror_mode": {
    "name": "ipython",
    "version": 3
   },
   "file_extension": ".py",
   "mimetype": "text/x-python",
   "name": "python",
   "nbconvert_exporter": "python",
   "pygments_lexer": "ipython3",
   "version": "3.11.4"
  }
 },
 "nbformat": 4,
 "nbformat_minor": 5
}
